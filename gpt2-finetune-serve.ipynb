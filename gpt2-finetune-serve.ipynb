{
 "cells": [
  {
   "cell_type": "code",
   "execution_count": null,
   "id": "b6c05b69-4ce8-45ef-82d3-bacb2491bee8",
   "metadata": {},
   "outputs": [],
   "source": [
    "# Import pieces from codeflare-sdk\n",
    "from codeflare_sdk.cluster.cluster import Cluster, ClusterConfiguration\n",
    "from codeflare_sdk.cluster.auth import TokenAuthentication"
   ]
  },
  {
   "cell_type": "code",
   "execution_count": null,
   "id": "32f99bbd-9903-4d38-a4f2-223dec684ae2",
   "metadata": {},
   "outputs": [],
   "source": [
    "# Create authentication object for user permissions\n",
    "# IF unused, SDK will automatically check for default kubeconfig, then in-cluster config\n",
    "# KubeConfigFileAuthentication can also be used to specify kubeconfig path manually\n",
    "auth = TokenAuthentication(\n",
    "    token = \"XXXXX\",\n",
    "    server = \"XXXXX\",\n",
    "    skip_tls=False\n",
    ")\n",
    "auth.login()"
   ]
  },
  {
   "cell_type": "code",
   "execution_count": null,
   "id": "3f32119a-c4ee-4163-b103-d9ca3bddbdb5",
   "metadata": {},
   "outputs": [],
   "source": [
    "cluster = Cluster(ClusterConfiguration(\n",
    "    name='gptfttest',\n",
    "    namespace='default',\n",
    "    num_workers=2,\n",
    "    min_cpus=2,\n",
    "    max_cpus=2,\n",
    "    min_memory=8,\n",
    "    max_memory=8,\n",
    "    num_gpus=1,\n",
    "    instascale=True, #<---instascale enabled\n",
    "    machine_types=[\"m5.xlarge\", \"g4dn.xlarge\"],\n",
    "))"
   ]
  },
  {
   "cell_type": "code",
   "execution_count": null,
   "id": "107c8277-3b3b-4238-a786-a391a662fd7c",
   "metadata": {},
   "outputs": [],
   "source": [
    "cluster.up()"
   ]
  },
  {
   "cell_type": "code",
   "execution_count": null,
   "id": "730f66ce-adaa-4709-b9cf-22417847e059",
   "metadata": {},
   "outputs": [],
   "source": [
    "cluster.wait_ready()"
   ]
  },
  {
   "cell_type": "code",
   "execution_count": null,
   "id": "48fac218-2f22-428b-9228-137a4bb0e666",
   "metadata": {},
   "outputs": [],
   "source": [
    "cluster.details()"
   ]
  },
  {
   "cell_type": "code",
   "execution_count": null,
   "id": "9ed5bd75-4230-4c7c-a9e2-0f247890e62a",
   "metadata": {},
   "outputs": [],
   "source": [
    "from codeflare_sdk.job.jobs import DDPJobDefinition"
   ]
  },
  {
   "cell_type": "code",
   "execution_count": null,
   "id": "611d203a-35aa-4357-a748-1d01b022fcdb",
   "metadata": {},
   "outputs": [],
   "source": [
    "arg_list = [\n",
    "    \"--model_name_or_path\", \"gpt2\",\n",
    "    \"--dataset_name\", \"wikitext\",\n",
    "    \"--dataset_config_name\", \"wikitext-2-raw-v1\",\n",
    "    \"--per_device_train_batch_size\", \"2\",\n",
    "    \"--per_device_eval_batch_size\", \"2\",\n",
    "    \"--do_train\",\n",
    "    \"--do_eval\",\n",
    "    \"--output_dir\", \"/opt/app-root/src,\n",
    "    \"--overwrite_output_dir\"\n",
    "]"
   ]
  },
  {
   "cell_type": "code",
   "execution_count": null,
   "id": "8ac7c34f-e227-44c2-a4b1-a57c853ac3a7",
   "metadata": {},
   "outputs": [],
   "source": [
    "jobdef = DDPJobDefinition(\n",
    "    name=\"gpttest\",\n",
    "    script=\"gpt_og.py\",\n",
    "    script_args=arg_list,\n",
    "    scheduler_args={\"requirements\": \"requirements_gpt.txt\"}\n",
    ")\n",
    "job = jobdef.submit(cluster)"
   ]
  },
  {
   "cell_type": "code",
   "execution_count": null,
   "id": "1680d287-de46-45f8-b95a-02ba3c83912c",
   "metadata": {},
   "outputs": [],
   "source": [
    "job.status()"
   ]
  },
  {
   "cell_type": "markdown",
   "id": "80bc1961",
   "metadata": {},
   "source": [
    "Retrieve raw log output at anytime with:"
   ]
  },
  {
   "cell_type": "code",
   "execution_count": null,
   "id": "d25d6198-9941-47e8-857f-9811830cc854",
   "metadata": {},
   "outputs": [],
   "source": [
    "job.logs()"
   ]
  },
  {
   "cell_type": "markdown",
   "id": "876b96b5",
   "metadata": {},
   "source": [
    "View live updates for status, logs, and other information with:"
   ]
  },
  {
   "cell_type": "code",
   "execution_count": null,
   "id": "58f8a2e8",
   "metadata": {},
   "outputs": [],
   "source": [
    "cluster.cluster_dashboard_uri()"
   ]
  },
  {
   "cell_type": "code",
   "execution_count": null,
   "id": "d7c13eab",
   "metadata": {},
   "outputs": [],
   "source": [
    "job.status()"
   ]
  },
  {
   "cell_type": "markdown",
   "id": "a5e32da5-ed3b-4440-a479-d3aa556017f4",
   "metadata": {},
   "source": [
    "Once the fine-tuning process is complete, the model file should show up on the left sidebar (if not, click on the folder icon that will take you to /opt/app-root/stc directory of the container). You would need to follow three steps:\n",
    "1. Download the model file into your local laptop.\n",
    "2. Convert the model to caikit format by following instructions outlined [here](https://github.com/opendatahub-io/caikit-tgis-serving/blob/main/demo/kserve/built-tip.md).\n",
    "3. Containerize your model into a MinIO bucket by following instructions outlined [here](https://github.com/opendatahub-io/caikit-tgis-serving/blob/main/demo/kserve/create-minio.md). \n",
    "\n",
    "Once your converted model is in a MinIO container available at a quay.io registry, continue executing the cells below for serving of the model."
   ]
  },
  {
   "cell_type": "code",
   "execution_count": null,
   "id": "beb1a6b9-d9b3-49b7-b036-09f1d3569b59",
   "metadata": {},
   "outputs": [],
   "source": [
    "cluster.down()"
   ]
  },
  {
   "cell_type": "code",
   "execution_count": null,
   "id": "d1b95421-231c-4416-9db7-6c3912eeb07b",
   "metadata": {},
   "outputs": [],
   "source": []
  },
  {
   "cell_type": "code",
   "execution_count": null,
   "id": "355e9824-c7ff-4b77-99b5-a5206aa365e9",
   "metadata": {},
   "outputs": [],
   "source": []
  },
  {
   "cell_type": "code",
   "execution_count": null,
   "id": "bc4f1b51-477b-481f-a467-2447851e2fca",
   "metadata": {},
   "outputs": [],
   "source": [
    "!oc create namespace demo-serving\n",
    "!oc patch smmr/default -n istio-system --type='json' -p=\"[{'op': 'add', 'path': '/spec/members/-', 'value': \\\"demo-serving\\\"}]\""
   ]
  },
  {
   "cell_type": "code",
   "execution_count": null,
   "id": "b4c869d6-ee21-41b1-8b31-e2db32592b75",
   "metadata": {},
   "outputs": [],
   "source": [
    "# Instructions on converting the model"
   ]
  },
  {
   "cell_type": "code",
   "execution_count": null,
   "id": "e4568677-86e7-412b-88eb-f48ab1c9356b",
   "metadata": {},
   "outputs": [],
   "source": [
    "!oc apply -f caikit-servingruntime-demo.yaml -n demo-serving"
   ]
  },
  {
   "cell_type": "code",
   "execution_count": null,
   "id": "7c29dbd6-6c91-40c5-a49e-d6e741a1684f",
   "metadata": {},
   "outputs": [],
   "source": [
    "!oc apply -f caikit-isvc-demo.yaml -n demo-serving"
   ]
  },
  {
   "cell_type": "code",
   "execution_count": null,
   "id": "9ef17b7a-d4f6-4cee-98ac-286d2818e1c6",
   "metadata": {},
   "outputs": [],
   "source": [
    "!oc get isvc/caikit-example-isvc -n demo-serving"
   ]
  },
  {
   "cell_type": "code",
   "execution_count": 1,
   "id": "3ed65889-1079-47c5-b72f-979276ed6ec8",
   "metadata": {},
   "outputs": [
    {
     "data": {
      "text/plain": [
       "'/opt/app-root/src/codeflare-sdk/demo-notebooks/guided-demos'"
      ]
     },
     "execution_count": 1,
     "metadata": {},
     "output_type": "execute_result"
    }
   ],
   "source": []
  },
  {
   "cell_type": "code",
   "execution_count": null,
   "id": "6505d930-20c7-4d27-98d8-127db22bea2d",
   "metadata": {},
   "outputs": [],
   "source": [
    "!export KSVC_HOSTNAME=$(oc get ksvc caikit-example-isvc-predictor -n demo-serving -o jsonpath='{.status.url}' | cut -d'/' -f3)\n",
    "!grpcurl -insecure -d '{\"text\": \"This demo is awesome because\"}' -H \"mm-model-id: gpt2-caikit\" ${KSVC_HOSTNAME}:443 caikit.runtime.Nlp.NlpService/TextGenerationTaskPredict"
   ]
  },
  {
   "cell_type": "code",
   "execution_count": null,
   "id": "8398d977-db24-46d0-a7d2-b4e9197808d7",
   "metadata": {},
   "outputs": [],
   "source": [
    "auth.logout()"
   ]
  }
 ],
 "metadata": {
  "kernelspec": {
   "display_name": "Python 3.9",
   "language": "python",
   "name": "python3"
  },
  "language_info": {
   "codemirror_mode": {
    "name": "ipython",
    "version": 3
   },
   "file_extension": ".py",
   "mimetype": "text/x-python",
   "name": "python",
   "nbconvert_exporter": "python",
   "pygments_lexer": "ipython3",
   "version": "3.9.16"
  }
 },
 "nbformat": 4,
 "nbformat_minor": 5
}
